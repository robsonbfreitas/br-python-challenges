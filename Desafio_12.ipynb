{
  "nbformat": 4,
  "nbformat_minor": 0,
  "metadata": {
    "anaconda-cloud": {},
    "kernelspec": {
      "display_name": "Python 3",
      "language": "python",
      "name": "python3"
    },
    "language_info": {
      "codemirror_mode": {
        "name": "ipython",
        "version": 3
      },
      "file_extension": ".py",
      "mimetype": "text/x-python",
      "name": "python",
      "nbconvert_exporter": "python",
      "pygments_lexer": "ipython3",
      "version": "3.6.5"
    },
    "colab": {
      "name": "Desafio 12.ipynb",
      "provenance": [],
      "include_colab_link": true
    }
  },
  "cells": [
    {
      "cell_type": "markdown",
      "metadata": {
        "id": "view-in-github",
        "colab_type": "text"
      },
      "source": [
        "<a href=\"https://colab.research.google.com/github/robsonbfreitas/br-python-challenges/blob/master/Desafio_12.ipynb\" target=\"_parent\"><img src=\"https://colab.research.google.com/assets/colab-badge.svg\" alt=\"Open In Colab\"/></a>"
      ]
    },
    {
      "cell_type": "markdown",
      "metadata": {
        "id": "AYHY2YXQf6J2"
      },
      "source": [
        "### Desafio 12\n",
        "\n",
        "Escreva uma função em Python para verificar a validade de uma senha.\n",
        "\n",
        "Validação:\n",
        "\n",
        "* Pelo menos 1 letra entre [a-z] e 1 letra entre [A-Z].\n",
        "* Pelo menos 1 número entre [0-9].\n",
        "* Pelo menos 1 caractere de [$ # @].\n",
        "* Comprimento mínimo de 6 caracteres.\n",
        "* Comprimento máximo de 16 caracteres.\n",
        "\n",
        "Entradas: \"12345678\", \"J3sus0\", \"#Te5t300\", \"J*90j12374\", \"Michheeul\", \"Monk3y6\"\n",
        "\n",
        "A saída deve ser a senha e um texto indicando se a senha é válida ou inválida:\n",
        "\n",
        "```\n",
        "\"1234\" - Senha inválida\n",
        "\"Qw#1234\" - Senha válida\n",
        "```"
      ]
    },
    {
      "cell_type": "code",
      "metadata": {
        "id": "UGgtGYGGf6J3"
      },
      "source": [
        "# Seu código\r\n",
        "checkMaiusculas = False\r\n",
        "checkMinusculas = False\r\n",
        "checkNumeros = False\r\n",
        "checkCaracteres = False\r\n",
        "senhaOK = False\r\n"
      ],
      "execution_count": 41,
      "outputs": []
    },
    {
      "cell_type": "code",
      "metadata": {
        "id": "n8F01NzD9uHm"
      },
      "source": [
        "letrasMaiusculas = \"QWERTYUIOPÇLKJHGFDSAZXCVBNM\"\r\n",
        "letrasMinusculas = \"qwertyuiopçlkjhgfdsazxcvbnm\"\r\n",
        "numeros = \"1234567890\"\r\n",
        "caracteres = \"!@#$%¨&*()_-+={[`´}]^~:;>.<,?/\""
      ],
      "execution_count": 42,
      "outputs": []
    },
    {
      "cell_type": "code",
      "metadata": {
        "colab": {
          "base_uri": "https://localhost:8080/"
        },
        "id": "lGdxBoH89d5-",
        "outputId": "816f62db-3d76-425c-ec8d-2863b1c75fab"
      },
      "source": [
        "senha = \"T#eSTESENHA2021\"\r\n",
        "i = 0\r\n",
        "\r\n",
        "if len(senha) < 6 or len(senha) > 16:\r\n",
        "  print (\"Senha invalida\")\r\n",
        "\r\n",
        "while i < len(senha):\r\n",
        "\r\n",
        "  if letrasMinusculas.find(senha[i]) > -1:\r\n",
        "    checkMinusculas = True\r\n",
        "    \r\n",
        "  if letrasMaiusculas.find(senha[i]) > -1:\r\n",
        "    checkMaiusculas = True\r\n",
        "      \r\n",
        "  if numeros.find(senha[i]) > -1:\r\n",
        "    checkNumeros = True\r\n",
        "  \r\n",
        "  if caracteres.find(senha[i]) > -1:\r\n",
        "    checkCaracteres = True\r\n",
        "  \r\n",
        "  if checkMaiusculas and checkMinusculas and checkNumeros and checkCaracteres:\r\n",
        "    senhaOK = True\r\n",
        "  else:\r\n",
        "    senhaOK = False\r\n",
        "\r\n",
        "  #print(str(checkMaiusculas) + \"- \" + str(checkMinusculas) + \"- \" + str(checkNumeros) + \"- \" + str(checkCaracteres))\r\n",
        "\r\n",
        "  i += 1  \r\n",
        "\r\n",
        "if senhaOK:\r\n",
        "  print(\"Senha OK: \" + senha)\r\n",
        "else:\r\n",
        "  print(\"Senha NOK: \" + senha)  "
      ],
      "execution_count": 43,
      "outputs": [
        {
          "output_type": "stream",
          "text": [
            "Senha OK: T#eSTESENHA2021\n"
          ],
          "name": "stdout"
        }
      ]
    },
    {
      "cell_type": "code",
      "metadata": {
        "colab": {
          "base_uri": "https://localhost:8080/"
        },
        "id": "N349OdzDPJQD",
        "outputId": "4648df60-b391-4338-b846-183fc8d0a67b"
      },
      "source": [
        "senha =\"Robson\"\r\n",
        "letrasMaiusculas.find(senha[0])"
      ],
      "execution_count": null,
      "outputs": [
        {
          "output_type": "execute_result",
          "data": {
            "text/plain": [
              "3"
            ]
          },
          "metadata": {
            "tags": []
          },
          "execution_count": 34
        }
      ]
    }
  ]
}