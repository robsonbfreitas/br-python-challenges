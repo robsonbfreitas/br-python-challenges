{
  "nbformat": 4,
  "nbformat_minor": 0,
  "metadata": {
    "colab": {
      "name": "Desafio 7.ipynb",
      "provenance": [],
      "include_colab_link": true
    },
    "kernelspec": {
      "name": "python3",
      "display_name": "Python 3"
    }
  },
  "cells": [
    {
      "cell_type": "markdown",
      "metadata": {
        "id": "view-in-github",
        "colab_type": "text"
      },
      "source": [
        "<a href=\"https://colab.research.google.com/github/robsonbfreitas/br-python-challenges/blob/master/Desafio_07.ipynb\" target=\"_parent\"><img src=\"https://colab.research.google.com/assets/colab-badge.svg\" alt=\"Open In Colab\"/></a>"
      ]
    },
    {
      "cell_type": "markdown",
      "metadata": {
        "id": "gQbaWOWcW1g_"
      },
      "source": [
        "# Desafio 7\n",
        "Um professor de universidade tem uma turma com os seguintes números de telefones:"
      ]
    },
    {
      "cell_type": "code",
      "metadata": {
        "id": "T68FjcUmWear"
      },
      "source": [
        "telefones_alunos = ['(873) 810-8267', '(633) 244-7325', '(300) 303-5462', \n",
        "                    '(938) 300-8890', '(429) 264-7427', '(737) 805-2326', \n",
        "                    '(768) 956-8497', '(941) 225-3869', '(203) 606-9463', \n",
        "                    '(294) 430-7720', '(896) 781-5087', '(397) 845-8267', \n",
        "                    '(788) 717-6858', '(419) 734-4188', '(682) 595-3278', \n",
        "                    '(835) 955-1498', '(296) 415-9944', '(897) 932-2512', \n",
        "                    '(263) 415-3893', '(822) 640-8496', '(640) 427-2597', \n",
        "                    '(856) 338-7094', '(807) 554-4076', '(641) 367-5279', \n",
        "                    '(828) 866-0696', '(727) 376-5749', '(921) 948-2244', \n",
        "                    '(964) 710-9625', '(596) 685-1242', '(403) 343-7705', \n",
        "                    '(227) 389-3685', '(264) 372-7298', '(797) 649-3653', \n",
        "                    '(374) 361-3844', '(618) 490-4228', '(987) 803-5550', \n",
        "                    '(228) 976-9699', '(757) 450-9985', '(491) 666-5367',\n",
        "                    ]"
      ],
      "execution_count": 1,
      "outputs": []
    },
    {
      "cell_type": "markdown",
      "metadata": {
        "id": "ryYrStScXgZ3"
      },
      "source": [
        "Ele criou um grupo do whatapp no entanto somente os seguintes números entraram:"
      ]
    },
    {
      "cell_type": "code",
      "metadata": {
        "id": "0Hxk13ciXZ3h"
      },
      "source": [
        "entraram_no_grupo = ['(596) 685-1242', '(727) 376-5749', '(987) 803-5550', \n",
        "                     '(633) 244-7325', '(828) 866-0696', '(263) 415-3893', \n",
        "                     '(203) 606-9463', '(296) 415-9944', '(419) 734-4188', \n",
        "                     '(618) 490-4228', '(682) 595-3278', '(938) 300-8890', \n",
        "                     '(264) 372-7298', '(768) 956-8497', '(737) 805-2326', \n",
        "                     '(788) 717-6858', '(228) 976-9699', '(896) 781-5087',\n",
        "                     '(374) 361-3844', '(921) 948-2244', '(807) 554-4076', \n",
        "                     '(822) 640-8496', '(227) 389-3685', '(429) 264-7427', \n",
        "                     '(397) 845-8267']"
      ],
      "execution_count": 2,
      "outputs": []
    },
    {
      "cell_type": "markdown",
      "metadata": {
        "id": "-inLXlaxoWnC"
      },
      "source": [
        "Você seria capaz de criar uma lista dos alunos que ainda não entraram no grupo para que sejam contatados individualmente?"
      ]
    },
    {
      "cell_type": "code",
      "metadata": {
        "id": "_OSrDQ1noh62"
      },
      "source": [
        "telefones_alunos.sort()\r\n",
        "entraram_no_grupo.sort()"
      ],
      "execution_count": 4,
      "outputs": []
    },
    {
      "cell_type": "code",
      "metadata": {
        "id": "EonYfLG3U04h"
      },
      "source": [
        "i = 0\r\n",
        "j = 0\r\n",
        "nao_entraram_no_grupo = []\r\n"
      ],
      "execution_count": 5,
      "outputs": []
    },
    {
      "cell_type": "code",
      "metadata": {
        "id": "wk6Kq5zTU72E"
      },
      "source": [
        "while i < len(telefones_alunos):\r\n",
        "\r\n",
        "  incluiLista = True\r\n",
        "  j = 0\r\n",
        "\r\n",
        "  while entraram_no_grupo[j] <= telefones_alunos[i]:\r\n",
        "       if entraram_no_grupo[j] == telefones_alunos[i]:\r\n",
        "         incluiLista = False\r\n",
        "         break\r\n",
        "      \r\n",
        "       j += 1\r\n",
        "  \r\n",
        "  if incluiLista: \r\n",
        "      nao_entraram_no_grupo.append(telefones_alunos[i])  \r\n",
        "  \r\n",
        "  i += 1\r\n",
        "        \r\n",
        "  "
      ],
      "execution_count": 6,
      "outputs": []
    },
    {
      "cell_type": "code",
      "metadata": {
        "id": "0jIsxDwbchhi",
        "outputId": "1248a12a-6d3c-44d0-bbcd-5fa4d49ac98e",
        "colab": {
          "base_uri": "https://localhost:8080/"
        }
      },
      "source": [
        "nao_entraram_no_grupo"
      ],
      "execution_count": 7,
      "outputs": [
        {
          "output_type": "execute_result",
          "data": {
            "text/plain": [
              "['(294) 430-7720',\n",
              " '(300) 303-5462',\n",
              " '(403) 343-7705',\n",
              " '(491) 666-5367',\n",
              " '(640) 427-2597',\n",
              " '(641) 367-5279',\n",
              " '(757) 450-9985',\n",
              " '(797) 649-3653',\n",
              " '(835) 955-1498',\n",
              " '(856) 338-7094',\n",
              " '(873) 810-8267',\n",
              " '(897) 932-2512',\n",
              " '(941) 225-3869',\n",
              " '(964) 710-9625']"
            ]
          },
          "metadata": {
            "tags": []
          },
          "execution_count": 7
        }
      ]
    }
  ]
}