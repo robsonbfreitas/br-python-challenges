{
  "nbformat": 4,
  "nbformat_minor": 0,
  "metadata": {
    "anaconda-cloud": {},
    "kernelspec": {
      "display_name": "Python 3",
      "language": "python",
      "name": "python3"
    },
    "language_info": {
      "codemirror_mode": {
        "name": "ipython",
        "version": 3
      },
      "file_extension": ".py",
      "mimetype": "text/x-python",
      "name": "python",
      "nbconvert_exporter": "python",
      "pygments_lexer": "ipython3",
      "version": "3.6.5"
    },
    "colab": {
      "name": "Desafio 8.ipynb",
      "provenance": [],
      "toc_visible": true,
      "include_colab_link": true
    }
  },
  "cells": [
    {
      "cell_type": "markdown",
      "metadata": {
        "id": "view-in-github",
        "colab_type": "text"
      },
      "source": [
        "<a href=\"https://colab.research.google.com/github/robsonbfreitas/br-python-challenges/blob/master/Desafio_08.ipynb\" target=\"_parent\"><img src=\"https://colab.research.google.com/assets/colab-badge.svg\" alt=\"Open In Colab\"/></a>"
      ]
    },
    {
      "cell_type": "markdown",
      "metadata": {
        "id": "o3tkeMDNf6Jo"
      },
      "source": [
        "### Desafio 8\n",
        "\n",
        "Escreva um script Python para encontrar as 10 palavras mais longas em um arquivo.\n",
        "\n",
        "O arquivo TXT está localizado na mesma pasta do projeto (texto.txt)."
      ]
    },
    {
      "cell_type": "code",
      "metadata": {
        "id": "EknxjSG0f6Jo"
      },
      "source": [
        "# Seu código"
      ],
      "execution_count": null,
      "outputs": []
    },
    {
      "cell_type": "code",
      "metadata": {
        "id": "ZYbqEWBG5nKx"
      },
      "source": [
        "f = open('texto.txt', 'r')"
      ],
      "execution_count": 55,
      "outputs": []
    },
    {
      "cell_type": "code",
      "metadata": {
        "id": "YcZjBPpPhnIV"
      },
      "source": [
        "listaMaioresPalavras = []\r\n",
        "i = 0\r\n",
        "tam = 0\r\n",
        "maiorPalavra = ''"
      ],
      "execution_count": 56,
      "outputs": []
    },
    {
      "cell_type": "code",
      "metadata": {
        "id": "cz1oFj1tqexJ"
      },
      "source": [
        "texto = f.read()"
      ],
      "execution_count": 57,
      "outputs": []
    },
    {
      "cell_type": "code",
      "metadata": {
        "id": "pgwBeAA150o_"
      },
      "source": [
        "linha = texto.split()\r\n",
        "\r\n",
        "while i < len(linha):\r\n",
        "  for item in linha:\r\n",
        "    if len(item) > tam:\r\n",
        "      maiorPalavra = item  \r\n",
        "      tam = len(item)\r\n",
        "\r\n",
        "  listaMaioresPalavras.append(maiorPalavra)\r\n",
        "  linha.remove(maiorPalavra)\r\n",
        "  maiorPalavra = ''\r\n",
        "  tam = 0\r\n",
        "  i += 1"
      ],
      "execution_count": 58,
      "outputs": []
    },
    {
      "cell_type": "code",
      "metadata": {
        "colab": {
          "base_uri": "https://localhost:8080/"
        },
        "id": "yT7xKZRhtIIs",
        "outputId": "65b50eaa-2e0d-40b7-ebaf-187b2a2ced72"
      },
      "source": [
        "listaMaioresPalavras"
      ],
      "execution_count": 59,
      "outputs": [
        {
          "output_type": "execute_result",
          "data": {
            "text/plain": [
              "['processamento',\n",
              " 'verificando',\n",
              " 'treinando',\n",
              " 'primeira',\n",
              " 'palavras',\n",
              " 'arquivos',\n",
              " 'esquecer',\n",
              " 'segunda',\n",
              " 'maiores',\n",
              " 'leitura',\n",
              " 'podemos',\n",
              " 'arquivo',\n",
              " 'testes',\n",
              " 'fechar',\n",
              " 'linha',\n",
              " 'linha',\n",
              " 'teste',\n",
              " 'texto']"
            ]
          },
          "metadata": {
            "tags": []
          },
          "execution_count": 59
        }
      ]
    },
    {
      "cell_type": "code",
      "metadata": {
        "colab": {
          "base_uri": "https://localhost:8080/"
        },
        "id": "OacMFSrz3Hyk",
        "outputId": "2ba53d46-5eb2-4281-e861-ad0b71546839"
      },
      "source": [
        "listaMaioresPalavras[0:9]"
      ],
      "execution_count": 60,
      "outputs": [
        {
          "output_type": "execute_result",
          "data": {
            "text/plain": [
              "['processamento',\n",
              " 'verificando',\n",
              " 'treinando',\n",
              " 'primeira',\n",
              " 'palavras',\n",
              " 'arquivos',\n",
              " 'esquecer',\n",
              " 'segunda',\n",
              " 'maiores']"
            ]
          },
          "metadata": {
            "tags": []
          },
          "execution_count": 60
        }
      ]
    },
    {
      "cell_type": "code",
      "metadata": {
        "id": "SEb9w_negm69"
      },
      "source": [
        "f.close()"
      ],
      "execution_count": 54,
      "outputs": []
    }
  ]
}