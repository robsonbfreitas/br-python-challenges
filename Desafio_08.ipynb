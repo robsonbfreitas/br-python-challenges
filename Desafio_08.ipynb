{
  "nbformat": 4,
  "nbformat_minor": 0,
  "metadata": {
    "anaconda-cloud": {},
    "kernelspec": {
      "display_name": "Python 3",
      "language": "python",
      "name": "python3"
    },
    "language_info": {
      "codemirror_mode": {
        "name": "ipython",
        "version": 3
      },
      "file_extension": ".py",
      "mimetype": "text/x-python",
      "name": "python",
      "nbconvert_exporter": "python",
      "pygments_lexer": "ipython3",
      "version": "3.6.5"
    },
    "colab": {
      "name": "Desafio 8.ipynb",
      "provenance": [],
      "toc_visible": true,
      "include_colab_link": true
    }
  },
  "cells": [
    {
      "cell_type": "markdown",
      "metadata": {
        "id": "view-in-github",
        "colab_type": "text"
      },
      "source": [
        "<a href=\"https://colab.research.google.com/github/robsonbfreitas/br-python-challenges/blob/master/Desafio_08.ipynb\" target=\"_parent\"><img src=\"https://colab.research.google.com/assets/colab-badge.svg\" alt=\"Open In Colab\"/></a>"
      ]
    },
    {
      "cell_type": "markdown",
      "metadata": {
        "id": "o3tkeMDNf6Jo"
      },
      "source": [
        "### Desafio 8\n",
        "\n",
        "Escreva um script Python para encontrar as 10 palavras mais longas em um arquivo.\n",
        "\n",
        "O arquivo TXT está localizado na mesma pasta do projeto (texto.txt)."
      ]
    },
    {
      "cell_type": "code",
      "metadata": {
        "id": "EknxjSG0f6Jo"
      },
      "source": [
        "# Seu código"
      ],
      "execution_count": null,
      "outputs": []
    },
    {
      "cell_type": "code",
      "metadata": {
        "id": "ZYbqEWBG5nKx"
      },
      "source": [
        "f = open('texto.txt', 'r')"
      ],
      "execution_count": 46,
      "outputs": []
    },
    {
      "cell_type": "code",
      "metadata": {
        "id": "YcZjBPpPhnIV"
      },
      "source": [
        "listaMaioresPalavras = []\r\n",
        "i = 0\r\n",
        "tam = 0\r\n",
        "maiorPalavra = ''"
      ],
      "execution_count": 47,
      "outputs": []
    },
    {
      "cell_type": "code",
      "metadata": {
        "id": "cz1oFj1tqexJ"
      },
      "source": [
        "texto = f.read()"
      ],
      "execution_count": 48,
      "outputs": []
    },
    {
      "cell_type": "code",
      "metadata": {
        "colab": {
          "base_uri": "https://localhost:8080/"
        },
        "id": "pgwBeAA150o_",
        "outputId": "f8682044-13e8-45fe-df1b-0a9c3f4c762f"
      },
      "source": [
        "linha = texto.split()\r\n",
        "\r\n",
        "while i < len(linha):\r\n",
        "  print (\"len(linha : \" + str(len(linha)))\r\n",
        "  print (\"linha : \" + str(linha))\r\n",
        "  for item in linha:\r\n",
        "    if len(item) > tam:\r\n",
        "      maiorPalavra = item  \r\n",
        "      tam = len(item)\r\n",
        "\r\n",
        "  print(\"maiorPalavra : \" + str(maiorPalavra))\r\n",
        "  listaMaioresPalavras.append(maiorPalavra)\r\n",
        "  linha.remove(maiorPalavra)\r\n",
        "  print (\"linha depois de remover : \" + str(linha))\r\n",
        "  maiorPalavra = ''\r\n",
        "  tam = 0\r\n",
        "  i += 1"
      ],
      "execution_count": 49,
      "outputs": [
        {
          "output_type": "stream",
          "text": [
            "len(linha : 36\n",
            "linha : ['primeira', 'linha', 'a', 'ser', 'lida', 'para', 'testes', 'segunda', 'linha', 'a', 'ser', 'lida', 'para', 'teste', 'verificando', 'as', '10', 'maiores', 'palavras', 'do', 'texto', 'treinando', 'leitura', 'de', 'arquivos', 'nao', 'podemos', 'esquecer', 'de', 'fechar', 'o', 'arquivo', 'no', 'final', 'do', 'processamento']\n",
            "maiorPalavra : processamento\n",
            "linha depois de remover : ['primeira', 'linha', 'a', 'ser', 'lida', 'para', 'testes', 'segunda', 'linha', 'a', 'ser', 'lida', 'para', 'teste', 'verificando', 'as', '10', 'maiores', 'palavras', 'do', 'texto', 'treinando', 'leitura', 'de', 'arquivos', 'nao', 'podemos', 'esquecer', 'de', 'fechar', 'o', 'arquivo', 'no', 'final', 'do']\n",
            "len(linha : 35\n",
            "linha : ['primeira', 'linha', 'a', 'ser', 'lida', 'para', 'testes', 'segunda', 'linha', 'a', 'ser', 'lida', 'para', 'teste', 'verificando', 'as', '10', 'maiores', 'palavras', 'do', 'texto', 'treinando', 'leitura', 'de', 'arquivos', 'nao', 'podemos', 'esquecer', 'de', 'fechar', 'o', 'arquivo', 'no', 'final', 'do']\n",
            "maiorPalavra : verificando\n",
            "linha depois de remover : ['primeira', 'linha', 'a', 'ser', 'lida', 'para', 'testes', 'segunda', 'linha', 'a', 'ser', 'lida', 'para', 'teste', 'as', '10', 'maiores', 'palavras', 'do', 'texto', 'treinando', 'leitura', 'de', 'arquivos', 'nao', 'podemos', 'esquecer', 'de', 'fechar', 'o', 'arquivo', 'no', 'final', 'do']\n",
            "len(linha : 34\n",
            "linha : ['primeira', 'linha', 'a', 'ser', 'lida', 'para', 'testes', 'segunda', 'linha', 'a', 'ser', 'lida', 'para', 'teste', 'as', '10', 'maiores', 'palavras', 'do', 'texto', 'treinando', 'leitura', 'de', 'arquivos', 'nao', 'podemos', 'esquecer', 'de', 'fechar', 'o', 'arquivo', 'no', 'final', 'do']\n",
            "maiorPalavra : treinando\n",
            "linha depois de remover : ['primeira', 'linha', 'a', 'ser', 'lida', 'para', 'testes', 'segunda', 'linha', 'a', 'ser', 'lida', 'para', 'teste', 'as', '10', 'maiores', 'palavras', 'do', 'texto', 'leitura', 'de', 'arquivos', 'nao', 'podemos', 'esquecer', 'de', 'fechar', 'o', 'arquivo', 'no', 'final', 'do']\n",
            "len(linha : 33\n",
            "linha : ['primeira', 'linha', 'a', 'ser', 'lida', 'para', 'testes', 'segunda', 'linha', 'a', 'ser', 'lida', 'para', 'teste', 'as', '10', 'maiores', 'palavras', 'do', 'texto', 'leitura', 'de', 'arquivos', 'nao', 'podemos', 'esquecer', 'de', 'fechar', 'o', 'arquivo', 'no', 'final', 'do']\n",
            "maiorPalavra : primeira\n",
            "linha depois de remover : ['linha', 'a', 'ser', 'lida', 'para', 'testes', 'segunda', 'linha', 'a', 'ser', 'lida', 'para', 'teste', 'as', '10', 'maiores', 'palavras', 'do', 'texto', 'leitura', 'de', 'arquivos', 'nao', 'podemos', 'esquecer', 'de', 'fechar', 'o', 'arquivo', 'no', 'final', 'do']\n",
            "len(linha : 32\n",
            "linha : ['linha', 'a', 'ser', 'lida', 'para', 'testes', 'segunda', 'linha', 'a', 'ser', 'lida', 'para', 'teste', 'as', '10', 'maiores', 'palavras', 'do', 'texto', 'leitura', 'de', 'arquivos', 'nao', 'podemos', 'esquecer', 'de', 'fechar', 'o', 'arquivo', 'no', 'final', 'do']\n",
            "maiorPalavra : palavras\n",
            "linha depois de remover : ['linha', 'a', 'ser', 'lida', 'para', 'testes', 'segunda', 'linha', 'a', 'ser', 'lida', 'para', 'teste', 'as', '10', 'maiores', 'do', 'texto', 'leitura', 'de', 'arquivos', 'nao', 'podemos', 'esquecer', 'de', 'fechar', 'o', 'arquivo', 'no', 'final', 'do']\n",
            "len(linha : 31\n",
            "linha : ['linha', 'a', 'ser', 'lida', 'para', 'testes', 'segunda', 'linha', 'a', 'ser', 'lida', 'para', 'teste', 'as', '10', 'maiores', 'do', 'texto', 'leitura', 'de', 'arquivos', 'nao', 'podemos', 'esquecer', 'de', 'fechar', 'o', 'arquivo', 'no', 'final', 'do']\n",
            "maiorPalavra : arquivos\n",
            "linha depois de remover : ['linha', 'a', 'ser', 'lida', 'para', 'testes', 'segunda', 'linha', 'a', 'ser', 'lida', 'para', 'teste', 'as', '10', 'maiores', 'do', 'texto', 'leitura', 'de', 'nao', 'podemos', 'esquecer', 'de', 'fechar', 'o', 'arquivo', 'no', 'final', 'do']\n",
            "len(linha : 30\n",
            "linha : ['linha', 'a', 'ser', 'lida', 'para', 'testes', 'segunda', 'linha', 'a', 'ser', 'lida', 'para', 'teste', 'as', '10', 'maiores', 'do', 'texto', 'leitura', 'de', 'nao', 'podemos', 'esquecer', 'de', 'fechar', 'o', 'arquivo', 'no', 'final', 'do']\n",
            "maiorPalavra : esquecer\n",
            "linha depois de remover : ['linha', 'a', 'ser', 'lida', 'para', 'testes', 'segunda', 'linha', 'a', 'ser', 'lida', 'para', 'teste', 'as', '10', 'maiores', 'do', 'texto', 'leitura', 'de', 'nao', 'podemos', 'de', 'fechar', 'o', 'arquivo', 'no', 'final', 'do']\n",
            "len(linha : 29\n",
            "linha : ['linha', 'a', 'ser', 'lida', 'para', 'testes', 'segunda', 'linha', 'a', 'ser', 'lida', 'para', 'teste', 'as', '10', 'maiores', 'do', 'texto', 'leitura', 'de', 'nao', 'podemos', 'de', 'fechar', 'o', 'arquivo', 'no', 'final', 'do']\n",
            "maiorPalavra : segunda\n",
            "linha depois de remover : ['linha', 'a', 'ser', 'lida', 'para', 'testes', 'linha', 'a', 'ser', 'lida', 'para', 'teste', 'as', '10', 'maiores', 'do', 'texto', 'leitura', 'de', 'nao', 'podemos', 'de', 'fechar', 'o', 'arquivo', 'no', 'final', 'do']\n",
            "len(linha : 28\n",
            "linha : ['linha', 'a', 'ser', 'lida', 'para', 'testes', 'linha', 'a', 'ser', 'lida', 'para', 'teste', 'as', '10', 'maiores', 'do', 'texto', 'leitura', 'de', 'nao', 'podemos', 'de', 'fechar', 'o', 'arquivo', 'no', 'final', 'do']\n",
            "maiorPalavra : maiores\n",
            "linha depois de remover : ['linha', 'a', 'ser', 'lida', 'para', 'testes', 'linha', 'a', 'ser', 'lida', 'para', 'teste', 'as', '10', 'do', 'texto', 'leitura', 'de', 'nao', 'podemos', 'de', 'fechar', 'o', 'arquivo', 'no', 'final', 'do']\n",
            "len(linha : 27\n",
            "linha : ['linha', 'a', 'ser', 'lida', 'para', 'testes', 'linha', 'a', 'ser', 'lida', 'para', 'teste', 'as', '10', 'do', 'texto', 'leitura', 'de', 'nao', 'podemos', 'de', 'fechar', 'o', 'arquivo', 'no', 'final', 'do']\n",
            "maiorPalavra : leitura\n",
            "linha depois de remover : ['linha', 'a', 'ser', 'lida', 'para', 'testes', 'linha', 'a', 'ser', 'lida', 'para', 'teste', 'as', '10', 'do', 'texto', 'de', 'nao', 'podemos', 'de', 'fechar', 'o', 'arquivo', 'no', 'final', 'do']\n",
            "len(linha : 26\n",
            "linha : ['linha', 'a', 'ser', 'lida', 'para', 'testes', 'linha', 'a', 'ser', 'lida', 'para', 'teste', 'as', '10', 'do', 'texto', 'de', 'nao', 'podemos', 'de', 'fechar', 'o', 'arquivo', 'no', 'final', 'do']\n",
            "maiorPalavra : podemos\n",
            "linha depois de remover : ['linha', 'a', 'ser', 'lida', 'para', 'testes', 'linha', 'a', 'ser', 'lida', 'para', 'teste', 'as', '10', 'do', 'texto', 'de', 'nao', 'de', 'fechar', 'o', 'arquivo', 'no', 'final', 'do']\n",
            "len(linha : 25\n",
            "linha : ['linha', 'a', 'ser', 'lida', 'para', 'testes', 'linha', 'a', 'ser', 'lida', 'para', 'teste', 'as', '10', 'do', 'texto', 'de', 'nao', 'de', 'fechar', 'o', 'arquivo', 'no', 'final', 'do']\n",
            "maiorPalavra : arquivo\n",
            "linha depois de remover : ['linha', 'a', 'ser', 'lida', 'para', 'testes', 'linha', 'a', 'ser', 'lida', 'para', 'teste', 'as', '10', 'do', 'texto', 'de', 'nao', 'de', 'fechar', 'o', 'no', 'final', 'do']\n",
            "len(linha : 24\n",
            "linha : ['linha', 'a', 'ser', 'lida', 'para', 'testes', 'linha', 'a', 'ser', 'lida', 'para', 'teste', 'as', '10', 'do', 'texto', 'de', 'nao', 'de', 'fechar', 'o', 'no', 'final', 'do']\n",
            "maiorPalavra : testes\n",
            "linha depois de remover : ['linha', 'a', 'ser', 'lida', 'para', 'linha', 'a', 'ser', 'lida', 'para', 'teste', 'as', '10', 'do', 'texto', 'de', 'nao', 'de', 'fechar', 'o', 'no', 'final', 'do']\n",
            "len(linha : 23\n",
            "linha : ['linha', 'a', 'ser', 'lida', 'para', 'linha', 'a', 'ser', 'lida', 'para', 'teste', 'as', '10', 'do', 'texto', 'de', 'nao', 'de', 'fechar', 'o', 'no', 'final', 'do']\n",
            "maiorPalavra : fechar\n",
            "linha depois de remover : ['linha', 'a', 'ser', 'lida', 'para', 'linha', 'a', 'ser', 'lida', 'para', 'teste', 'as', '10', 'do', 'texto', 'de', 'nao', 'de', 'o', 'no', 'final', 'do']\n",
            "len(linha : 22\n",
            "linha : ['linha', 'a', 'ser', 'lida', 'para', 'linha', 'a', 'ser', 'lida', 'para', 'teste', 'as', '10', 'do', 'texto', 'de', 'nao', 'de', 'o', 'no', 'final', 'do']\n",
            "maiorPalavra : linha\n",
            "linha depois de remover : ['a', 'ser', 'lida', 'para', 'linha', 'a', 'ser', 'lida', 'para', 'teste', 'as', '10', 'do', 'texto', 'de', 'nao', 'de', 'o', 'no', 'final', 'do']\n",
            "len(linha : 21\n",
            "linha : ['a', 'ser', 'lida', 'para', 'linha', 'a', 'ser', 'lida', 'para', 'teste', 'as', '10', 'do', 'texto', 'de', 'nao', 'de', 'o', 'no', 'final', 'do']\n",
            "maiorPalavra : linha\n",
            "linha depois de remover : ['a', 'ser', 'lida', 'para', 'a', 'ser', 'lida', 'para', 'teste', 'as', '10', 'do', 'texto', 'de', 'nao', 'de', 'o', 'no', 'final', 'do']\n",
            "len(linha : 20\n",
            "linha : ['a', 'ser', 'lida', 'para', 'a', 'ser', 'lida', 'para', 'teste', 'as', '10', 'do', 'texto', 'de', 'nao', 'de', 'o', 'no', 'final', 'do']\n",
            "maiorPalavra : teste\n",
            "linha depois de remover : ['a', 'ser', 'lida', 'para', 'a', 'ser', 'lida', 'para', 'as', '10', 'do', 'texto', 'de', 'nao', 'de', 'o', 'no', 'final', 'do']\n",
            "len(linha : 19\n",
            "linha : ['a', 'ser', 'lida', 'para', 'a', 'ser', 'lida', 'para', 'as', '10', 'do', 'texto', 'de', 'nao', 'de', 'o', 'no', 'final', 'do']\n",
            "maiorPalavra : texto\n",
            "linha depois de remover : ['a', 'ser', 'lida', 'para', 'a', 'ser', 'lida', 'para', 'as', '10', 'do', 'de', 'nao', 'de', 'o', 'no', 'final', 'do']\n"
          ],
          "name": "stdout"
        }
      ]
    },
    {
      "cell_type": "code",
      "metadata": {
        "id": "yT7xKZRhtIIs",
        "outputId": "6be55edc-2d5c-46e6-f756-5548929ae80b",
        "colab": {
          "base_uri": "https://localhost:8080/"
        }
      },
      "source": [
        "listaMaioresPalavras"
      ],
      "execution_count": 50,
      "outputs": [
        {
          "output_type": "execute_result",
          "data": {
            "text/plain": [
              "['processamento',\n",
              " 'verificando',\n",
              " 'treinando',\n",
              " 'primeira',\n",
              " 'palavras',\n",
              " 'arquivos',\n",
              " 'esquecer',\n",
              " 'segunda',\n",
              " 'maiores',\n",
              " 'leitura',\n",
              " 'podemos',\n",
              " 'arquivo',\n",
              " 'testes',\n",
              " 'fechar',\n",
              " 'linha',\n",
              " 'linha',\n",
              " 'teste',\n",
              " 'texto']"
            ]
          },
          "metadata": {
            "tags": []
          },
          "execution_count": 50
        }
      ]
    },
    {
      "cell_type": "code",
      "metadata": {
        "id": "OacMFSrz3Hyk",
        "outputId": "5be3c6e1-7888-4517-ad97-e98fb071ae2a",
        "colab": {
          "base_uri": "https://localhost:8080/"
        }
      },
      "source": [
        "listaMaioresPalavras[0:9]"
      ],
      "execution_count": 53,
      "outputs": [
        {
          "output_type": "execute_result",
          "data": {
            "text/plain": [
              "['processamento',\n",
              " 'verificando',\n",
              " 'treinando',\n",
              " 'primeira',\n",
              " 'palavras',\n",
              " 'arquivos',\n",
              " 'esquecer',\n",
              " 'segunda',\n",
              " 'maiores']"
            ]
          },
          "metadata": {
            "tags": []
          },
          "execution_count": 53
        }
      ]
    },
    {
      "cell_type": "code",
      "metadata": {
        "id": "SEb9w_negm69"
      },
      "source": [
        "f.close()"
      ],
      "execution_count": 45,
      "outputs": []
    }
  ]
}