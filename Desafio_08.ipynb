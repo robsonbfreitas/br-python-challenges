{
  "nbformat": 4,
  "nbformat_minor": 0,
  "metadata": {
    "anaconda-cloud": {},
    "kernelspec": {
      "display_name": "Python 3",
      "language": "python",
      "name": "python3"
    },
    "language_info": {
      "codemirror_mode": {
        "name": "ipython",
        "version": 3
      },
      "file_extension": ".py",
      "mimetype": "text/x-python",
      "name": "python",
      "nbconvert_exporter": "python",
      "pygments_lexer": "ipython3",
      "version": "3.6.5"
    },
    "colab": {
      "name": "Desafio 8.ipynb",
      "provenance": [],
      "toc_visible": true,
      "include_colab_link": true
    }
  },
  "cells": [
    {
      "cell_type": "markdown",
      "metadata": {
        "id": "view-in-github",
        "colab_type": "text"
      },
      "source": [
        "<a href=\"https://colab.research.google.com/github/robsonbfreitas/br-python-challenges/blob/master/Desafio_08.ipynb\" target=\"_parent\"><img src=\"https://colab.research.google.com/assets/colab-badge.svg\" alt=\"Open In Colab\"/></a>"
      ]
    },
    {
      "cell_type": "markdown",
      "metadata": {
        "id": "o3tkeMDNf6Jo"
      },
      "source": [
        "### Desafio 8\n",
        "\n",
        "Escreva um script Python para encontrar as 10 palavras mais longas em um arquivo.\n",
        "\n",
        "O arquivo TXT está localizado na mesma pasta do projeto (texto.txt)."
      ]
    },
    {
      "cell_type": "code",
      "metadata": {
        "id": "EknxjSG0f6Jo"
      },
      "source": [
        "# Seu código"
      ],
      "execution_count": null,
      "outputs": []
    },
    {
      "cell_type": "code",
      "metadata": {
        "id": "ZYbqEWBG5nKx"
      },
      "source": [
        "f = open('texto.txt', 'r')"
      ],
      "execution_count": 1,
      "outputs": []
    },
    {
      "cell_type": "code",
      "metadata": {
        "id": "YcZjBPpPhnIV"
      },
      "source": [
        "maiorPalavra = ''\r\n",
        "listaMaioresPalavras = []\r\n",
        "i = 0\r\n",
        "j = 0\r\n",
        "tam = 0"
      ],
      "execution_count": 2,
      "outputs": []
    },
    {
      "cell_type": "code",
      "metadata": {
        "id": "cz1oFj1tqexJ"
      },
      "source": [
        "texto = f.read()"
      ],
      "execution_count": 3,
      "outputs": []
    },
    {
      "cell_type": "code",
      "metadata": {
        "id": "lDQ4RVPXewv5",
        "colab": {
          "base_uri": "https://localhost:8080/"
        },
        "outputId": "3317496e-0a33-4e08-ac4a-bfd404720a3e"
      },
      "source": [
        "linha = texto.split()\r\n",
        "\r\n",
        "print ('linha => ' + str(linha))\r\n",
        "\r\n",
        "while len(listaMaioresPalavras) < 10:\r\n",
        "  tam = 0\r\n",
        "  \r\n",
        "  for item in linha:\r\n",
        "    print ('item => ' + str(item))\r\n",
        "      \r\n",
        "    if tam < len(item):\r\n",
        "       Inclui = True\r\n",
        "       print (listaMaioresPalavras)\r\n",
        "       for item2 in listaMaioresPalavras:\r\n",
        "         if item == item2:\r\n",
        "           Inclui = False\r\n",
        "       print (Inclui)\r\n",
        "       print (item)\r\n",
        "       print (item2)\r\n",
        "       if not Inclui:\r\n",
        "          listaMaioresPalavras.append(item)\r\n",
        "          tam = len(item)\r\n",
        "\r\n",
        "print(str(listaMaioresPalavras))       \r\n",
        "\r\n",
        "\r\n",
        "\r\n",
        " #   Inclui = True\r\n",
        "  #  for item in listaMaioresPalavras:\r\n",
        "  #    if maiorPalavra == item:\r\n",
        "  ##        Inlcui = False\r\n",
        "   #       break\r\n",
        "   # if Inclui:\r\n",
        "   #    listaMaioresPalavras.append(maiorPalavra)\r\n",
        "\r\n",
        "  #  i += 1  "
      ],
      "execution_count": 11,
      "outputs": [
        {
          "output_type": "stream",
          "text": [
            "linha => ['primeira', 'linha', 'a', 'ser', 'lida', 'para', 'testes', 'segunda', 'linha', 'a', 'ser', 'lida', 'para', 'teste', 'verificando', 'as', '10', 'maiores', 'palavras', 'do', 'texto', 'treinando', 'leitura', 'de', 'arquivos', 'nao', 'podemos', 'esquecer', 'de', 'fechar', 'o', 'arquivo', 'no', 'final', 'do', 'processamento']\n",
            "['primeira', 'verificando', 'processamento', 'processamento', 'processamento', 'processamento', 'processamento', 'processamento', 'processamento', 'processamento']\n"
          ],
          "name": "stdout"
        }
      ]
    },
    {
      "cell_type": "code",
      "metadata": {
        "id": "SEb9w_negm69"
      },
      "source": [
        "f.close()"
      ],
      "execution_count": null,
      "outputs": []
    }
  ]
}