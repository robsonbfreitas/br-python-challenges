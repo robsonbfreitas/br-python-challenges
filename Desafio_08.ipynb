{
  "nbformat": 4,
  "nbformat_minor": 0,
  "metadata": {
    "anaconda-cloud": {},
    "kernelspec": {
      "display_name": "Python 3",
      "language": "python",
      "name": "python3"
    },
    "language_info": {
      "codemirror_mode": {
        "name": "ipython",
        "version": 3
      },
      "file_extension": ".py",
      "mimetype": "text/x-python",
      "name": "python",
      "nbconvert_exporter": "python",
      "pygments_lexer": "ipython3",
      "version": "3.6.5"
    },
    "colab": {
      "name": "Desafio 8.ipynb",
      "provenance": [],
      "toc_visible": true,
      "include_colab_link": true
    }
  },
  "cells": [
    {
      "cell_type": "markdown",
      "metadata": {
        "id": "view-in-github",
        "colab_type": "text"
      },
      "source": [
        "<a href=\"https://colab.research.google.com/github/robsonbfreitas/br-python-challenges/blob/master/Desafio_08.ipynb\" target=\"_parent\"><img src=\"https://colab.research.google.com/assets/colab-badge.svg\" alt=\"Open In Colab\"/></a>"
      ]
    },
    {
      "cell_type": "markdown",
      "metadata": {
        "id": "o3tkeMDNf6Jo"
      },
      "source": [
        "### Desafio 8\n",
        "\n",
        "Escreva um script Python para encontrar as 10 palavras mais longas em um arquivo.\n",
        "\n",
        "O arquivo TXT está localizado na mesma pasta do projeto (texto.txt)."
      ]
    },
    {
      "cell_type": "code",
      "metadata": {
        "id": "EknxjSG0f6Jo"
      },
      "source": [
        "# Seu código"
      ],
      "execution_count": null,
      "outputs": []
    },
    {
      "cell_type": "code",
      "metadata": {
        "id": "ZYbqEWBG5nKx"
      },
      "source": [
        "f = open('texto.txt', 'r')"
      ],
      "execution_count": 29,
      "outputs": []
    },
    {
      "cell_type": "code",
      "metadata": {
        "id": "YcZjBPpPhnIV"
      },
      "source": [
        "maiorPalavra = ''\r\n",
        "listaMaioresPalavras = []\r\n",
        "i = 0\r\n",
        "j = 0"
      ],
      "execution_count": 30,
      "outputs": []
    },
    {
      "cell_type": "code",
      "metadata": {
        "id": "lDQ4RVPXewv5",
        "outputId": "ebf6e30e-0262-43e0-d6b8-b930a77d6622",
        "colab": {
          "base_uri": "https://localhost:8080/"
        }
      },
      "source": [
        "\r\n",
        "\r\n",
        "for linha in f:\r\n",
        "  linha2 = linha.split()\r\n",
        "  print ('i => ' + str(i))\r\n",
        "\r\n",
        "  while i < 10:\r\n",
        "    print ('i => ' + str(i))\r\n",
        "    j = 0\r\n",
        "    while j < len(linha2):\r\n",
        "      print ('j => ' + str(j))\r\n",
        "      print ('linha2[j] => ' + linha2[j])\r\n",
        "\r\n",
        "      if len(linha2[j]) > len(maiorPalavra):\r\n",
        "         maiorPalavra = linha2[j]\r\n",
        "\r\n",
        "      j +=1\r\n",
        "\r\n",
        "    Inclui = True\r\n",
        "    for item in listaMaioresPalavras:\r\n",
        "      if maiorPalavra == item:\r\n",
        "          Inlcui = False\r\n",
        "          break\r\n",
        "    if Inclui:\r\n",
        "       listaMaioresPalavras.append(maiorPalavra)\r\n",
        "\r\n",
        "    i += 1  "
      ],
      "execution_count": 31,
      "outputs": [
        {
          "output_type": "stream",
          "text": [
            "i => 0\n",
            "i => 0\n",
            "j => 0\n",
            "linha2[j] => primeira\n",
            "j => 1\n",
            "linha2[j] => linha\n",
            "j => 2\n",
            "linha2[j] => a\n",
            "j => 3\n",
            "linha2[j] => ser\n",
            "j => 4\n",
            "linha2[j] => lida\n",
            "j => 5\n",
            "linha2[j] => para\n",
            "j => 6\n",
            "linha2[j] => testes\n",
            "i => 1\n",
            "j => 0\n",
            "linha2[j] => primeira\n",
            "j => 1\n",
            "linha2[j] => linha\n",
            "j => 2\n",
            "linha2[j] => a\n",
            "j => 3\n",
            "linha2[j] => ser\n",
            "j => 4\n",
            "linha2[j] => lida\n",
            "j => 5\n",
            "linha2[j] => para\n",
            "j => 6\n",
            "linha2[j] => testes\n",
            "i => 2\n",
            "j => 0\n",
            "linha2[j] => primeira\n",
            "j => 1\n",
            "linha2[j] => linha\n",
            "j => 2\n",
            "linha2[j] => a\n",
            "j => 3\n",
            "linha2[j] => ser\n",
            "j => 4\n",
            "linha2[j] => lida\n",
            "j => 5\n",
            "linha2[j] => para\n",
            "j => 6\n",
            "linha2[j] => testes\n",
            "i => 3\n",
            "j => 0\n",
            "linha2[j] => primeira\n",
            "j => 1\n",
            "linha2[j] => linha\n",
            "j => 2\n",
            "linha2[j] => a\n",
            "j => 3\n",
            "linha2[j] => ser\n",
            "j => 4\n",
            "linha2[j] => lida\n",
            "j => 5\n",
            "linha2[j] => para\n",
            "j => 6\n",
            "linha2[j] => testes\n",
            "i => 4\n",
            "j => 0\n",
            "linha2[j] => primeira\n",
            "j => 1\n",
            "linha2[j] => linha\n",
            "j => 2\n",
            "linha2[j] => a\n",
            "j => 3\n",
            "linha2[j] => ser\n",
            "j => 4\n",
            "linha2[j] => lida\n",
            "j => 5\n",
            "linha2[j] => para\n",
            "j => 6\n",
            "linha2[j] => testes\n",
            "i => 5\n",
            "j => 0\n",
            "linha2[j] => primeira\n",
            "j => 1\n",
            "linha2[j] => linha\n",
            "j => 2\n",
            "linha2[j] => a\n",
            "j => 3\n",
            "linha2[j] => ser\n",
            "j => 4\n",
            "linha2[j] => lida\n",
            "j => 5\n",
            "linha2[j] => para\n",
            "j => 6\n",
            "linha2[j] => testes\n",
            "i => 6\n",
            "j => 0\n",
            "linha2[j] => primeira\n",
            "j => 1\n",
            "linha2[j] => linha\n",
            "j => 2\n",
            "linha2[j] => a\n",
            "j => 3\n",
            "linha2[j] => ser\n",
            "j => 4\n",
            "linha2[j] => lida\n",
            "j => 5\n",
            "linha2[j] => para\n",
            "j => 6\n",
            "linha2[j] => testes\n",
            "i => 7\n",
            "j => 0\n",
            "linha2[j] => primeira\n",
            "j => 1\n",
            "linha2[j] => linha\n",
            "j => 2\n",
            "linha2[j] => a\n",
            "j => 3\n",
            "linha2[j] => ser\n",
            "j => 4\n",
            "linha2[j] => lida\n",
            "j => 5\n",
            "linha2[j] => para\n",
            "j => 6\n",
            "linha2[j] => testes\n",
            "i => 8\n",
            "j => 0\n",
            "linha2[j] => primeira\n",
            "j => 1\n",
            "linha2[j] => linha\n",
            "j => 2\n",
            "linha2[j] => a\n",
            "j => 3\n",
            "linha2[j] => ser\n",
            "j => 4\n",
            "linha2[j] => lida\n",
            "j => 5\n",
            "linha2[j] => para\n",
            "j => 6\n",
            "linha2[j] => testes\n",
            "i => 9\n",
            "j => 0\n",
            "linha2[j] => primeira\n",
            "j => 1\n",
            "linha2[j] => linha\n",
            "j => 2\n",
            "linha2[j] => a\n",
            "j => 3\n",
            "linha2[j] => ser\n",
            "j => 4\n",
            "linha2[j] => lida\n",
            "j => 5\n",
            "linha2[j] => para\n",
            "j => 6\n",
            "linha2[j] => testes\n",
            "i => 10\n",
            "i => 10\n",
            "i => 10\n",
            "i => 10\n"
          ],
          "name": "stdout"
        }
      ]
    },
    {
      "cell_type": "code",
      "metadata": {
        "id": "kLO44lkWkgx5",
        "outputId": "7d68f7a8-613b-46ae-97de-5a5a33211c76",
        "colab": {
          "base_uri": "https://localhost:8080/"
        }
      },
      "source": [
        "listaMaioresPalavras"
      ],
      "execution_count": 27,
      "outputs": [
        {
          "output_type": "execute_result",
          "data": {
            "text/plain": [
              "['p', 'p', 'p', 'p', 'p', 'p', 'p', 'p', 'p', 'p']"
            ]
          },
          "metadata": {
            "tags": []
          },
          "execution_count": 27
        }
      ]
    },
    {
      "cell_type": "code",
      "metadata": {
        "id": "SEb9w_negm69"
      },
      "source": [
        "f.close()"
      ],
      "execution_count": 28,
      "outputs": []
    }
  ]
}