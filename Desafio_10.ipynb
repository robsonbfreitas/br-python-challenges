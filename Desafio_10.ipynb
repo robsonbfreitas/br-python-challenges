{
  "nbformat": 4,
  "nbformat_minor": 0,
  "metadata": {
    "anaconda-cloud": {},
    "kernelspec": {
      "display_name": "Python 3",
      "language": "python",
      "name": "python3"
    },
    "language_info": {
      "codemirror_mode": {
        "name": "ipython",
        "version": 3
      },
      "file_extension": ".py",
      "mimetype": "text/x-python",
      "name": "python",
      "nbconvert_exporter": "python",
      "pygments_lexer": "ipython3",
      "version": "3.6.5"
    },
    "colab": {
      "name": "Desafio 10.ipynb",
      "provenance": [],
      "include_colab_link": true
    }
  },
  "cells": [
    {
      "cell_type": "markdown",
      "metadata": {
        "id": "view-in-github",
        "colab_type": "text"
      },
      "source": [
        "<a href=\"https://colab.research.google.com/github/robsonbfreitas/br-python-challenges/blob/master/Desafio_10.ipynb\" target=\"_parent\"><img src=\"https://colab.research.google.com/assets/colab-badge.svg\" alt=\"Open In Colab\"/></a>"
      ]
    },
    {
      "cell_type": "markdown",
      "metadata": {
        "id": "a4-FLDRof6Jv"
      },
      "source": [
        "### Desafio 10\n",
        "\n",
        "Dada uma lista, divida-a em 3 partes iguais e reverta cada lista.\n",
        "\n",
        "Exemplo: \n",
        "\n",
        "sampleList = [11, 45, 8, 23, 14, 12, 78, 45, 89]\n",
        "\n",
        "Parte 1 [8, 45, 11]\n",
        "\n",
        "Parte 2 [12, 14, 23]\n",
        "\n",
        "Parte 3 [89, 45, 78]"
      ]
    },
    {
      "cell_type": "code",
      "metadata": {
        "id": "IJ70pUjnf6Jw"
      },
      "source": [
        "# Seu código\r\n",
        "sampleList = [11, 45, 8, 23, 14, 12, 78, 45, 89]\r\n",
        "tam = len(sampleList)"
      ],
      "execution_count": 3,
      "outputs": []
    },
    {
      "cell_type": "code",
      "metadata": {
        "id": "pNrXNVqf8Wc1"
      },
      "source": [
        "div = tam / 3\r\n",
        "i = 0\r\n",
        "inicio = 0\r\n",
        "parte = 1\r\n",
        "lista = []\r\n",
        "lista2 = []\r\n",
        "fim = inicio + div\r\n"
      ],
      "execution_count": 4,
      "outputs": []
    },
    {
      "cell_type": "code",
      "metadata": {
        "id": "lQAl-oQcf_YB"
      },
      "source": [
        "def retLista(parteLista):\r\n",
        "  \r\n",
        "\r\n",
        "  return parteLista"
      ],
      "execution_count": 5,
      "outputs": []
    },
    {
      "cell_type": "code",
      "metadata": {
        "colab": {
          "base_uri": "https://localhost:8080/"
        },
        "id": "1xdVlvOBTe3Q",
        "outputId": "fb359568-7905-4d1b-eb95-85cff2d8447b"
      },
      "source": [
        "while i < tam:\r\n",
        "  print (\"i: \" + str(i))\r\n",
        "  print (\"tam: \" + str(tam))\r\n",
        "  print (\"div: \" + str(div))\r\n",
        "  while inicio < fim:\r\n",
        "    print (\"inicio: \" + str(inicio))\r\n",
        "    print (\"fim: \" + str(fim))\r\n",
        "    nomeLista = \"parte\" + str(parte)\r\n",
        "    print (\"nomeLista: \" + nomeLista)\r\n",
        "    print (\"sampleList[inicio]: \" + str(sampleList[inicio]))\r\n",
        "    lista.append(sampleList[inicio])\r\n",
        "    nomeLista = retLista(lista)\r\n",
        "    print (\"lista: \" + str(lista))\r\n",
        "    print (\"nomeLista: \" + str(nomeLista))\r\n",
        "    inicio += 1\r\n",
        "    i +=1\r\n",
        "  lista2.append(lista)  \r\n",
        "  lista = []\r\n",
        "  fim = inicio + div\r\n",
        "  parte += 1  \r\n",
        "  \r\n"
      ],
      "execution_count": 6,
      "outputs": [
        {
          "output_type": "stream",
          "text": [
            "i: 0\n",
            "tam: 9\n",
            "div: 3.0\n",
            "inicio: 0\n",
            "fim: 3.0\n",
            "nomeLista: parte1\n",
            "sampleList[inicio]: 11\n",
            "lista: [11]\n",
            "nomeLista: [11]\n",
            "inicio: 1\n",
            "fim: 3.0\n",
            "nomeLista: parte1\n",
            "sampleList[inicio]: 45\n",
            "lista: [11, 45]\n",
            "nomeLista: [11, 45]\n",
            "inicio: 2\n",
            "fim: 3.0\n",
            "nomeLista: parte1\n",
            "sampleList[inicio]: 8\n",
            "lista: [11, 45, 8]\n",
            "nomeLista: [11, 45, 8]\n",
            "i: 3\n",
            "tam: 9\n",
            "div: 3.0\n",
            "inicio: 3\n",
            "fim: 6.0\n",
            "nomeLista: parte2\n",
            "sampleList[inicio]: 23\n",
            "lista: [23]\n",
            "nomeLista: [23]\n",
            "inicio: 4\n",
            "fim: 6.0\n",
            "nomeLista: parte2\n",
            "sampleList[inicio]: 14\n",
            "lista: [23, 14]\n",
            "nomeLista: [23, 14]\n",
            "inicio: 5\n",
            "fim: 6.0\n",
            "nomeLista: parte2\n",
            "sampleList[inicio]: 12\n",
            "lista: [23, 14, 12]\n",
            "nomeLista: [23, 14, 12]\n",
            "i: 6\n",
            "tam: 9\n",
            "div: 3.0\n",
            "inicio: 6\n",
            "fim: 9.0\n",
            "nomeLista: parte3\n",
            "sampleList[inicio]: 78\n",
            "lista: [78]\n",
            "nomeLista: [78]\n",
            "inicio: 7\n",
            "fim: 9.0\n",
            "nomeLista: parte3\n",
            "sampleList[inicio]: 45\n",
            "lista: [78, 45]\n",
            "nomeLista: [78, 45]\n",
            "inicio: 8\n",
            "fim: 9.0\n",
            "nomeLista: parte3\n",
            "sampleList[inicio]: 89\n",
            "lista: [78, 45, 89]\n",
            "nomeLista: [78, 45, 89]\n"
          ],
          "name": "stdout"
        }
      ]
    },
    {
      "cell_type": "code",
      "metadata": {
        "colab": {
          "base_uri": "https://localhost:8080/"
        },
        "id": "TQYe_ryLWwUO",
        "outputId": "a008a966-22a3-4ab7-af58-63b2559e950c"
      },
      "source": [
        "lista2"
      ],
      "execution_count": 7,
      "outputs": [
        {
          "output_type": "execute_result",
          "data": {
            "text/plain": [
              "[[11, 45, 8], [23, 14, 12], [78, 45, 89]]"
            ]
          },
          "metadata": {
            "tags": []
          },
          "execution_count": 7
        }
      ]
    }
  ]
}