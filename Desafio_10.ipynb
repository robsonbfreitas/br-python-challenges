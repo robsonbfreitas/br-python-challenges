{
  "nbformat": 4,
  "nbformat_minor": 0,
  "metadata": {
    "anaconda-cloud": {},
    "kernelspec": {
      "display_name": "Python 3",
      "language": "python",
      "name": "python3"
    },
    "language_info": {
      "codemirror_mode": {
        "name": "ipython",
        "version": 3
      },
      "file_extension": ".py",
      "mimetype": "text/x-python",
      "name": "python",
      "nbconvert_exporter": "python",
      "pygments_lexer": "ipython3",
      "version": "3.6.5"
    },
    "colab": {
      "name": "Desafio 10.ipynb",
      "provenance": [],
      "include_colab_link": true
    }
  },
  "cells": [
    {
      "cell_type": "markdown",
      "metadata": {
        "id": "view-in-github",
        "colab_type": "text"
      },
      "source": [
        "<a href=\"https://colab.research.google.com/github/robsonbfreitas/br-python-challenges/blob/master/Desafio_10.ipynb\" target=\"_parent\"><img src=\"https://colab.research.google.com/assets/colab-badge.svg\" alt=\"Open In Colab\"/></a>"
      ]
    },
    {
      "cell_type": "markdown",
      "metadata": {
        "id": "a4-FLDRof6Jv"
      },
      "source": [
        "### Desafio 10\n",
        "\n",
        "Dada uma lista, divida-a em 3 partes iguais e reverta cada lista.\n",
        "\n",
        "Exemplo: \n",
        "\n",
        "sampleList = [11, 45, 8, 23, 14, 12, 78, 45, 89]\n",
        "\n",
        "Parte 1 [8, 45, 11]\n",
        "\n",
        "Parte 2 [12, 14, 23]\n",
        "\n",
        "Parte 3 [89, 45, 78]"
      ]
    },
    {
      "cell_type": "code",
      "metadata": {
        "id": "IJ70pUjnf6Jw"
      },
      "source": [
        "# Seu código\r\n",
        "sampleList = [11, 45, 8, 23, 14, 12, 78, 45, 89]\r\n",
        "tam = len(sampleList)"
      ],
      "execution_count": 34,
      "outputs": []
    },
    {
      "cell_type": "code",
      "metadata": {
        "id": "pNrXNVqf8Wc1"
      },
      "source": [
        "div = tam / 3\r\n",
        "i = 0\r\n",
        "inicio = 0\r\n",
        "parte = 1\r\n",
        "lista = []\r\n",
        "lista2 = []\r\n",
        "lista3 = []\r\n",
        "lista4 = []\r\n",
        "fim = inicio + div\r\n",
        "parte1 = []\r\n",
        "parte2 = []\r\n",
        "parte3 = []\r\n"
      ],
      "execution_count": 35,
      "outputs": []
    },
    {
      "cell_type": "code",
      "metadata": {
        "id": "lQAl-oQcf_YB"
      },
      "source": [
        "def retLista(parteLista):\r\n",
        "    return parteLista"
      ],
      "execution_count": 36,
      "outputs": []
    },
    {
      "cell_type": "code",
      "metadata": {
        "id": "1xdVlvOBTe3Q"
      },
      "source": [
        "while i < tam:\r\n",
        "  \r\n",
        "  while inicio < fim:\r\n",
        "    nomeLista = \"parte\" + str(parte)\r\n",
        "    lista.append(sampleList[inicio])\r\n",
        "    nomeLista = retLista(lista)\r\n",
        "    inicio += 1\r\n",
        "    i +=1\r\n",
        "    \r\n",
        "  lista2.append(lista)  \r\n",
        "  lista = []\r\n",
        "  fim = inicio + div\r\n",
        "  parte += 1  \r\n",
        "  \r\n"
      ],
      "execution_count": 37,
      "outputs": []
    },
    {
      "cell_type": "code",
      "metadata": {
        "colab": {
          "base_uri": "https://localhost:8080/"
        },
        "id": "TQYe_ryLWwUO",
        "outputId": "5ee14255-150a-449f-ba5a-dafa46c42d30"
      },
      "source": [
        "lista2"
      ],
      "execution_count": 38,
      "outputs": [
        {
          "output_type": "execute_result",
          "data": {
            "text/plain": [
              "[[11, 45, 8], [23, 14, 12], [78, 45, 89]]"
            ]
          },
          "metadata": {
            "tags": []
          },
          "execution_count": 38
        }
      ]
    },
    {
      "cell_type": "code",
      "metadata": {
        "id": "jQqTjC01TsXL"
      },
      "source": [
        "k = 0\r\n",
        "tam = len(lista2[k])\r\n",
        "\r\n",
        "while k < tam:\r\n",
        "  l = len(lista2[k]) - 1\r\n",
        "  for m in reversed(lista2[k]):\r\n",
        "    lista3.append(m)\r\n",
        "\r\n",
        "  lista4.append(lista3)\r\n",
        "  lista3 = []  \r\n",
        "  k += 1  "
      ],
      "execution_count": 39,
      "outputs": []
    },
    {
      "cell_type": "code",
      "metadata": {
        "id": "2F42qjQlbacc",
        "outputId": "f7fc9dad-38ef-4bd1-d09b-7995816d2c55",
        "colab": {
          "base_uri": "https://localhost:8080/"
        }
      },
      "source": [
        "parte1 = lista4[0]\r\n",
        "parte2 = lista4[1]\r\n",
        "parte3 = lista4[2]\r\n",
        "print(\"parte1 : \" + str(parte1))\r\n",
        "print(\"parte2 : \" + str(parte2))\r\n",
        "print(\"parte3 : \" + str(parte3))"
      ],
      "execution_count": 40,
      "outputs": [
        {
          "output_type": "stream",
          "text": [
            "parte1 : [8, 45, 11]\n",
            "parte2 : [12, 14, 23]\n",
            "parte3 : [89, 45, 78]\n"
          ],
          "name": "stdout"
        }
      ]
    }
  ]
}