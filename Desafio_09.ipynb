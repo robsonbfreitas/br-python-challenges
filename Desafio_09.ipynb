{
  "nbformat": 4,
  "nbformat_minor": 0,
  "metadata": {
    "anaconda-cloud": {},
    "kernelspec": {
      "display_name": "Python 3",
      "language": "python",
      "name": "python3"
    },
    "language_info": {
      "codemirror_mode": {
        "name": "ipython",
        "version": 3
      },
      "file_extension": ".py",
      "mimetype": "text/x-python",
      "name": "python",
      "nbconvert_exporter": "python",
      "pygments_lexer": "ipython3",
      "version": "3.6.5"
    },
    "colab": {
      "name": "Desafio 9.ipynb",
      "provenance": [],
      "include_colab_link": true
    }
  },
  "cells": [
    {
      "cell_type": "markdown",
      "metadata": {
        "id": "view-in-github",
        "colab_type": "text"
      },
      "source": [
        "<a href=\"https://colab.research.google.com/github/robsonbfreitas/br-python-challenges/blob/master/Desafio_09.ipynb\" target=\"_parent\"><img src=\"https://colab.research.google.com/assets/colab-badge.svg\" alt=\"Open In Colab\"/></a>"
      ]
    },
    {
      "cell_type": "markdown",
      "metadata": {
        "id": "HpvTpUBGf6Jr"
      },
      "source": [
        "### Desafio 9\n",
        "\n",
        "Escreva uma função que retorne a soma dos múltiplos de 3 e 5 entre 0 e um número limite (parâmetro). Por exemplo, se o limite for 20, ele retornará a soma de 3, 5, 6, 9, 10, 12, 15, 18, 20."
      ]
    },
    {
      "cell_type": "code",
      "metadata": {
        "id": "195C6bw-f6Js"
      },
      "source": [
        "# Seu código\r\n",
        "listaMult = []"
      ],
      "execution_count": 104,
      "outputs": []
    },
    {
      "cell_type": "code",
      "metadata": {
        "id": "a_6aqcKp6wrN"
      },
      "source": [
        "def retSoma(limite):\r\n",
        "  #limite = 20\r\n",
        "  num1 = 3\r\n",
        "  num2 = 5\r\n",
        "  multpl1 = 1\r\n",
        "  multpl2 = 1\r\n",
        "  mult1 = 0\r\n",
        "  mult2 = 0\r\n",
        "  soma1 = 0\r\n",
        "  soma2 = 0\r\n",
        "\r\n",
        "  while (mult2 < limite):\r\n",
        "    \r\n",
        "    while (mult1 <= mult2):\r\n",
        "      mult1 = num1 * multpl1\r\n",
        "      \r\n",
        "      if (mult1 % num2) != 0:\r\n",
        "        listaMult.append(mult1)\r\n",
        "        soma1 += mult1\r\n",
        "      multpl1 += 1\r\n",
        "\r\n",
        "    mult2 = num2 * multpl2\r\n",
        "    listaMult.append(mult2)\r\n",
        "    soma2 += mult2\r\n",
        "    multpl2 += 1\r\n",
        "\r\n",
        "  return soma1 + soma2  "
      ],
      "execution_count": 105,
      "outputs": []
    },
    {
      "cell_type": "code",
      "metadata": {
        "id": "Gav_t8OQ3L_w",
        "outputId": "b1b6ee0b-cdac-4524-db8e-1769a7287a40",
        "colab": {
          "base_uri": "https://localhost:8080/"
        }
      },
      "source": [
        "rt = retSoma(20)\r\n",
        "print (\"soma : \" + str(rt))"
      ],
      "execution_count": 106,
      "outputs": [
        {
          "output_type": "stream",
          "text": [
            "soma : 98\n"
          ],
          "name": "stdout"
        }
      ]
    },
    {
      "cell_type": "code",
      "metadata": {
        "id": "YOlpi4u53RiV"
      },
      "source": [
        "listaMult.sort()"
      ],
      "execution_count": 107,
      "outputs": []
    },
    {
      "cell_type": "code",
      "metadata": {
        "id": "f0PGjBqWDY9C",
        "outputId": "977826e5-691f-4255-eb84-e88a605cd735",
        "colab": {
          "base_uri": "https://localhost:8080/"
        }
      },
      "source": [
        "listaMult"
      ],
      "execution_count": 108,
      "outputs": [
        {
          "output_type": "execute_result",
          "data": {
            "text/plain": [
              "[3, 5, 6, 9, 10, 12, 15, 18, 20]"
            ]
          },
          "metadata": {
            "tags": []
          },
          "execution_count": 108
        }
      ]
    }
  ]
}