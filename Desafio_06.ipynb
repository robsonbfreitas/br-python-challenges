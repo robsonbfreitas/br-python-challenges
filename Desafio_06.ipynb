{
  "nbformat": 4,
  "nbformat_minor": 0,
  "metadata": {
    "anaconda-cloud": {},
    "kernelspec": {
      "display_name": "Python 3",
      "language": "python",
      "name": "python3"
    },
    "language_info": {
      "codemirror_mode": {
        "name": "ipython",
        "version": 3
      },
      "file_extension": ".py",
      "mimetype": "text/x-python",
      "name": "python",
      "nbconvert_exporter": "python",
      "pygments_lexer": "ipython3",
      "version": "3.6.5"
    },
    "colab": {
      "name": "Desafio 6.ipynb",
      "provenance": [],
      "include_colab_link": true
    }
  },
  "cells": [
    {
      "cell_type": "markdown",
      "metadata": {
        "id": "view-in-github",
        "colab_type": "text"
      },
      "source": [
        "<a href=\"https://colab.research.google.com/github/robsonbfreitas/br-python-challenges/blob/master/Desafio_06.ipynb\" target=\"_parent\"><img src=\"https://colab.research.google.com/assets/colab-badge.svg\" alt=\"Open In Colab\"/></a>"
      ]
    },
    {
      "cell_type": "markdown",
      "metadata": {
        "id": "AiI1_KNTf6Jh"
      },
      "source": [
        "### Desafio 6\n",
        "\n",
        "Crie uma função que receba duas listas e retorne uma lista que contenha apenas os elementos comuns entre as listas (sem repetição). A função deve suportar lista de tamanhos diferentes.\n",
        "\n",
        "listas:\n",
        "\n",
        "a = [1, 1, 2, 3, 5, 8, 13, 21, 34, 55, 89]\n",
        " \n",
        "b = [1, 2, 3, 4, 5, 6, 7, 8, 9, 10, 11, 12, 13]\n"
      ]
    },
    {
      "cell_type": "code",
      "metadata": {
        "id": "mvxpy_vCf6Jh"
      },
      "source": [
        "# Seu código\r\n",
        "a = [1, 1, 2, 3, 5, 8, 13, 21, 34, 55, 89]\r\n",
        "\r\n",
        "b = [1, 2, 3, 4, 5, 6, 7, 8, 9, 10, 11, 12, 13]"
      ],
      "execution_count": 87,
      "outputs": []
    },
    {
      "cell_type": "code",
      "metadata": {
        "id": "xPXoLOpk-bKn",
        "outputId": "6ea94027-9664-4c97-cce6-62395f4ec329",
        "colab": {
          "base_uri": "https://localhost:8080/"
        }
      },
      "source": [
        "sorted(a)"
      ],
      "execution_count": 88,
      "outputs": [
        {
          "output_type": "execute_result",
          "data": {
            "text/plain": [
              "[1, 1, 2, 3, 5, 8, 13, 21, 34, 55, 89]"
            ]
          },
          "metadata": {
            "tags": []
          },
          "execution_count": 88
        }
      ]
    },
    {
      "cell_type": "code",
      "metadata": {
        "id": "ZhZHuB31-n5J",
        "outputId": "cfdf696c-6227-41ff-89f4-4345358c69ca",
        "colab": {
          "base_uri": "https://localhost:8080/"
        }
      },
      "source": [
        "sorted(b)"
      ],
      "execution_count": 89,
      "outputs": [
        {
          "output_type": "execute_result",
          "data": {
            "text/plain": [
              "[1, 2, 3, 4, 5, 6, 7, 8, 9, 10, 11, 12, 13]"
            ]
          },
          "metadata": {
            "tags": []
          },
          "execution_count": 89
        }
      ]
    },
    {
      "cell_type": "code",
      "metadata": {
        "id": "ly-N_Aq624RQ"
      },
      "source": [
        "def Lista_Dados_Em_Comum(lista1, lista2):\r\n",
        "  lista3 = []\r\n",
        "  i = 0\r\n",
        "  j = 0\r\n",
        "  FimLista2 = False\r\n",
        "\r\n",
        "  while i < len(lista1):\r\n",
        "    print (\"i => \" + str(i))\r\n",
        "    print (\"lista1[i] => \" + str(lista1[i]))\r\n",
        "\r\n",
        "    if FimLista2:\r\n",
        "      break\r\n",
        "\r\n",
        "    while lista2[j] <= lista1[i]:\r\n",
        "      print (\"j => \" + str(j))\r\n",
        "      print (\"lista2[j] => \" + str(lista2[j]))\r\n",
        "\r\n",
        "      if lista2[j] == lista1[i]:\r\n",
        "         lista3.append(lista2[j])\r\n",
        "         print (\"lista3 => \" + str(lista3))\r\n",
        "\r\n",
        "      j = j + 1\r\n",
        "\r\n",
        "      if j == len(lista2):\r\n",
        "        FimLista2 = True\r\n",
        "        break\r\n",
        "\r\n",
        "    i = i + 1\r\n",
        "  return lista3\r\n",
        "\r\n"
      ],
      "execution_count": 90,
      "outputs": []
    },
    {
      "cell_type": "code",
      "metadata": {
        "id": "4x7F09tqCFNP",
        "outputId": "9cc2e92a-7ea5-4a21-9e50-b6b930f540b0",
        "colab": {
          "base_uri": "https://localhost:8080/"
        }
      },
      "source": [
        "lista = Lista_Dados_Em_Comum(a, b)"
      ],
      "execution_count": 91,
      "outputs": [
        {
          "output_type": "stream",
          "text": [
            "i => 0\n",
            "lista1[i] => 1\n",
            "j => 0\n",
            "lista2[j] => 1\n",
            "lista3 => [1]\n",
            "i => 1\n",
            "lista1[i] => 1\n",
            "i => 2\n",
            "lista1[i] => 2\n",
            "j => 1\n",
            "lista2[j] => 2\n",
            "lista3 => [1, 2]\n",
            "i => 3\n",
            "lista1[i] => 3\n",
            "j => 2\n",
            "lista2[j] => 3\n",
            "lista3 => [1, 2, 3]\n",
            "i => 4\n",
            "lista1[i] => 5\n",
            "j => 3\n",
            "lista2[j] => 4\n",
            "j => 4\n",
            "lista2[j] => 5\n",
            "lista3 => [1, 2, 3, 5]\n",
            "i => 5\n",
            "lista1[i] => 8\n",
            "j => 5\n",
            "lista2[j] => 6\n",
            "j => 6\n",
            "lista2[j] => 7\n",
            "j => 7\n",
            "lista2[j] => 8\n",
            "lista3 => [1, 2, 3, 5, 8]\n",
            "i => 6\n",
            "lista1[i] => 13\n",
            "j => 8\n",
            "lista2[j] => 9\n",
            "j => 9\n",
            "lista2[j] => 10\n",
            "j => 10\n",
            "lista2[j] => 11\n",
            "j => 11\n",
            "lista2[j] => 12\n",
            "j => 12\n",
            "lista2[j] => 13\n",
            "lista3 => [1, 2, 3, 5, 8, 13]\n",
            "i => 7\n",
            "lista1[i] => 21\n"
          ],
          "name": "stdout"
        }
      ]
    }
  ]
}