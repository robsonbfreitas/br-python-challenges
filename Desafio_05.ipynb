{
  "nbformat": 4,
  "nbformat_minor": 0,
  "metadata": {
    "colab": {
      "name": "Desafio 5.ipynb",
      "provenance": [],
      "include_colab_link": true
    },
    "kernelspec": {
      "name": "python3",
      "display_name": "Python 3"
    }
  },
  "cells": [
    {
      "cell_type": "markdown",
      "metadata": {
        "id": "view-in-github",
        "colab_type": "text"
      },
      "source": [
        "<a href=\"https://colab.research.google.com/github/robsonbfreitas/br-python-challenges/blob/master/Desafio_05.ipynb\" target=\"_parent\"><img src=\"https://colab.research.google.com/assets/colab-badge.svg\" alt=\"Open In Colab\"/></a>"
      ]
    },
    {
      "cell_type": "markdown",
      "metadata": {
        "id": "gQbaWOWcW1g_"
      },
      "source": [
        "# Desafio 5\n",
        "Você trabalha em uma loja de sapatos e deve contatar uma lista de clientes dada pela seguinte lista de números de telefones:"
      ]
    },
    {
      "cell_type": "code",
      "metadata": {
        "id": "T68FjcUmWear"
      },
      "source": [
        "numeros_telefone = [\n",
        "'(765) 368-1506',\n",
        "'(285) 608-2448',\n",
        "'(255) 826-9050',\n",
        "'(554) 994-1517',\n",
        "'(285) 608-2448',\n",
        "'(596) 336-5508',\n",
        "'(511) 821-7870',\n",
        "'(410) 665-4447',\n",
        "'(821) 642-8987',\n",
        "'(285) 608-2448',\n",
        "'(311) 799-3883',\n",
        "'(935) 875-2054',\n",
        "'(464) 788-2397',\n",
        "'(765) 368-1506',\n",
        "'(650) 684-1437',\n",
        "'(812) 816-0881',\n",
        "'(285) 608-2448',\n",
        "'(885) 407-1719',\n",
        "'(943) 769-1061',\n",
        "'(596) 336-5508',\n",
        "'(765) 368-1506',\n",
        "'(255) 826-9050',\n",
        "]"
      ],
      "execution_count": 12,
      "outputs": []
    },
    {
      "cell_type": "markdown",
      "metadata": {
        "id": "ryYrStScXgZ3"
      },
      "source": [
        "No entanto, alguns destes números estão duplicados. Você seria capaz de remover estes duplicados para evitar que clientes sejam contatado mais de uma vez?"
      ]
    },
    {
      "cell_type": "code",
      "metadata": {
        "id": "F8n1sN-4XrW3"
      },
      "source": [
        "numeros_telefone.sort()"
      ],
      "execution_count": 13,
      "outputs": []
    },
    {
      "cell_type": "code",
      "metadata": {
        "id": "_h459L0kACV7",
        "outputId": "5faf843d-1971-4dc1-92fd-dd9f547e1e32",
        "colab": {
          "base_uri": "https://localhost:8080/"
        }
      },
      "source": [
        "numeros_telefone"
      ],
      "execution_count": 14,
      "outputs": [
        {
          "output_type": "execute_result",
          "data": {
            "text/plain": [
              "['(255) 826-9050',\n",
              " '(255) 826-9050',\n",
              " '(285) 608-2448',\n",
              " '(285) 608-2448',\n",
              " '(285) 608-2448',\n",
              " '(285) 608-2448',\n",
              " '(311) 799-3883',\n",
              " '(410) 665-4447',\n",
              " '(464) 788-2397',\n",
              " '(511) 821-7870',\n",
              " '(554) 994-1517',\n",
              " '(596) 336-5508',\n",
              " '(596) 336-5508',\n",
              " '(650) 684-1437',\n",
              " '(765) 368-1506',\n",
              " '(765) 368-1506',\n",
              " '(765) 368-1506',\n",
              " '(812) 816-0881',\n",
              " '(821) 642-8987',\n",
              " '(885) 407-1719',\n",
              " '(935) 875-2054',\n",
              " '(943) 769-1061']"
            ]
          },
          "metadata": {
            "tags": []
          },
          "execution_count": 14
        }
      ]
    },
    {
      "cell_type": "code",
      "metadata": {
        "id": "pDsVjXAOA2dh"
      },
      "source": [
        "VerificaTel = \"\""
      ],
      "execution_count": 15,
      "outputs": []
    },
    {
      "cell_type": "code",
      "metadata": {
        "id": "MDU0NifGAMWy",
        "outputId": "a4d3d500-1166-4ad9-d143-4d208c0b6714",
        "colab": {
          "base_uri": "https://localhost:8080/"
        }
      },
      "source": [
        "for item in numeros_telefone:\r\n",
        "  print (\"item => \" + item)\r\n",
        "  print (\"VerificaTel => \" + VerificaTel)\r\n",
        "  #print (numeros_telefone)\r\n",
        "  if item == VerificaTel:\r\n",
        "    print (\"item para remocao : \" + item)\r\n",
        "    numeros_telefone.remove(item)\r\n",
        "  \r\n",
        "  VerificaTel = item"
      ],
      "execution_count": 18,
      "outputs": [
        {
          "output_type": "stream",
          "text": [
            "item => (255) 826-9050\n",
            "VerificaTel => (943) 769-1061\n",
            "item => (285) 608-2448\n",
            "VerificaTel => (255) 826-9050\n",
            "item => (285) 608-2448\n",
            "VerificaTel => (285) 608-2448\n",
            "item para remocao : (285) 608-2448\n",
            "item => (311) 799-3883\n",
            "VerificaTel => (285) 608-2448\n",
            "item => (410) 665-4447\n",
            "VerificaTel => (311) 799-3883\n",
            "item => (464) 788-2397\n",
            "VerificaTel => (410) 665-4447\n",
            "item => (511) 821-7870\n",
            "VerificaTel => (464) 788-2397\n",
            "item => (554) 994-1517\n",
            "VerificaTel => (511) 821-7870\n",
            "item => (596) 336-5508\n",
            "VerificaTel => (554) 994-1517\n",
            "item => (650) 684-1437\n",
            "VerificaTel => (596) 336-5508\n",
            "item => (765) 368-1506\n",
            "VerificaTel => (650) 684-1437\n",
            "item => (765) 368-1506\n",
            "VerificaTel => (765) 368-1506\n",
            "item para remocao : (765) 368-1506\n",
            "item => (821) 642-8987\n",
            "VerificaTel => (765) 368-1506\n",
            "item => (885) 407-1719\n",
            "VerificaTel => (821) 642-8987\n",
            "item => (935) 875-2054\n",
            "VerificaTel => (885) 407-1719\n",
            "item => (943) 769-1061\n",
            "VerificaTel => (935) 875-2054\n"
          ],
          "name": "stdout"
        }
      ]
    },
    {
      "cell_type": "code",
      "metadata": {
        "id": "Ou16Vg5iA76K",
        "outputId": "e730ae32-dbf9-4ab0-9269-757fc7964738",
        "colab": {
          "base_uri": "https://localhost:8080/"
        }
      },
      "source": [
        "numeros_telefone"
      ],
      "execution_count": 17,
      "outputs": [
        {
          "output_type": "execute_result",
          "data": {
            "text/plain": [
              "['(255) 826-9050',\n",
              " '(285) 608-2448',\n",
              " '(285) 608-2448',\n",
              " '(285) 608-2448',\n",
              " '(311) 799-3883',\n",
              " '(410) 665-4447',\n",
              " '(464) 788-2397',\n",
              " '(511) 821-7870',\n",
              " '(554) 994-1517',\n",
              " '(596) 336-5508',\n",
              " '(650) 684-1437',\n",
              " '(765) 368-1506',\n",
              " '(765) 368-1506',\n",
              " '(812) 816-0881',\n",
              " '(821) 642-8987',\n",
              " '(885) 407-1719',\n",
              " '(935) 875-2054',\n",
              " '(943) 769-1061']"
            ]
          },
          "metadata": {
            "tags": []
          },
          "execution_count": 17
        }
      ]
    }
  ]
}